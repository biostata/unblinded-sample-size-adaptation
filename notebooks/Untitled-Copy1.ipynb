{
 "cells": [
  {
   "cell_type": "code",
   "execution_count": 2,
   "metadata": {},
   "outputs": [
    {
     "name": "stderr",
     "output_type": "stream",
     "text": [
      "\u001b[32m\u001b[1m Activating\u001b[22m\u001b[39m environment at `~/workspace/unplanned-sample-size-adaptation/Project.toml`\n"
     ]
    }
   ],
   "source": [
    "import Pkg; Pkg.activate(\"..\")\n",
    "import QuadGK\n",
    "using Distributions, Zygote, JuMP, Ipopt, NLopt, BSplines\n",
    "\n",
    "include(\"util.jl\")\n",
    "\n",
    "# want to plot in R\n",
    "using RCall\n",
    "@rlibrary ggplot2\n",
    "R\"\n",
    "suppressPackageStartupMessages({\n",
    "library(tidyverse)\n",
    "library(patchwork)\n",
    "})\n",
    "\";"
   ]
  },
  {
   "cell_type": "code",
   "execution_count": 3,
   "metadata": {},
   "outputs": [],
   "source": [
    "    α = 0.025; β = 0.2\n",
    " crit = quantile(Normal(), 1 - α)\n",
    "  θ_1 = 0.4; τ = 0.2\n",
    "prior = truncated(Normal(θ_1, τ), -0.5, 1)\n",
    " φ(θ) = pdf(prior, θ)\n",
    "    n = 79.0; m = 26.0;"
   ]
  },
  {
   "cell_type": "code",
   "execution_count": 4,
   "metadata": {},
   "outputs": [],
   "source": [
    "# parameterise the shape as bspline, should be more stable than global polynomial\n",
    "function f(z, a, b, coefs) \n",
    "    @assert length(coefs) == 4 \"coefs must be of length 4\"\n",
    "    Spline(BSplineBasis(4, range(a, b; length = 2)), coefs)(z)\n",
    "end;"
   ]
  },
  {
   "cell_type": "code",
   "execution_count": 5,
   "metadata": {},
   "outputs": [
    {
     "data": {
      "image/png": "[encoded data removed]"
     },
     "metadata": {},
     "output_type": "display_data"
    },
    {
     "data": {
      "text/plain": [
       "RObject{VecSxp}\n"
      ]
     },
     "execution_count": 5,
     "metadata": {},
     "output_type": "execute_result"
    }
   ],
   "source": [
    "function samplesize(z, n1, cfut, ceff, β...)\n",
    "    f(z, cfut, ceff, [β[i] for i in 1:length(β)]) .+ n1\n",
    "end\n",
    "\n",
    "function criticalvalue(z, cfut, ceff, β...)\n",
    "    z <= cfut ? (return  1e9) : nothing\n",
    "    z >= ceff ? (return -1e9) : nothing\n",
    "    f(z, cfut, ceff, [β[i] for i in 1:length(β)])\n",
    "end\n",
    "\n",
    " β_n_start = 1.5*(n - m) .* ones(4)\n",
    " β_c_start = 1.05*crit .* ones(4)\n",
    "cfut_start, ceff_start = 0, 2.5\n",
    "n1_start = m\n",
    "\n",
    " z = collect(-1:0.01:3)\n",
    "n_ = samplesize.(z, n1_start, cfut_start, ceff_start, β_n_start...)\n",
    "c_ = criticalvalue.(z, cfut_start, ceff_start, β_c_start...)\n",
    "R\"\n",
    "tibble(\n",
    "    z = $z,\n",
    "    n = $n_,\n",
    "    c = $c_ %>% if_else(abs(.) <10, ., NA_real_)\n",
    ") %>%\n",
    "pivot_longer(-z, names_to = 'type', values_to = 'value') %>%\n",
    "filter(complete.cases(value)) %>% \n",
    "ggplot() +\n",
    "    aes(z, value) +\n",
    "    geom_line() +\n",
    "    scale_y_continuous(limits = c(0, NA)) +\n",
    "    facet_wrap(~type, scales = 'free_y')\n",
    "\""
   ]
  },
  {
   "cell_type": "code",
   "execution_count": 19,
   "metadata": {},
   "outputs": [
    {
     "data": {
      "text/plain": [
       "([-0.9739065285171717, -0.8650633666889845, -0.6794095682990244, -0.4333953941292472, -0.14887433898163124, 0.14887433898163124, 0.4333953941292472, 0.6794095682990244, 0.8650633666889845, 0.9739065285171717], [0.06667134430868811, 0.14945134915058064, 0.2190863625159821, 0.26926671930999635, 0.29552422471475276, 0.29552422471475276, 0.26926671930999635, 0.2190863625159821, 0.14945134915058064, 0.06667134430868811])"
      ]
     },
     "execution_count": 19,
     "metadata": {},
     "output_type": "execute_result"
    }
   ],
   "source": [
    "ξ2, ω2 = QuadGK.gauss(10)"
   ]
  },
  {
   "cell_type": "code",
   "execution_count": 20,
   "metadata": {},
   "outputs": [
    {
     "name": "stdout",
     "output_type": "stream",
     "text": [
      "ess(n1_start, cfut_start, ceff_start, β_n_start...) = 69.7649556616258\n"
     ]
    }
   ],
   "source": [
    "function ess(n1, cfut, ceff, β_n...)\n",
    "    futility = n1 * (1 - integrate(z -> marginal_pdf.(z, n1, φ), cfut))\n",
    "    efficacy = n1 * integrate(z -> marginal_pdf.(z, n1, φ), ceff)\n",
    "    stagetwo = integrate(z -> samplesize(z, n1, cfut, ceff, β_n...) * marginal_pdf.(z, n1, φ), cfut, ceff; ξ = ξ2, ω = ω2)\n",
    "    futility + stagetwo + efficacy\n",
    "end\n",
    "\n",
    "@show ess(n1_start, cfut_start, ceff_start, β_n_start...);"
   ]
  },
  {
   "cell_type": "code",
   "execution_count": 21,
   "metadata": {},
   "outputs": [
    {
     "name": "stdout",
     "output_type": "stream",
     "text": [
      "mtoer(n1_start, cfut_start, ceff_start, β_combined_start...) = 0.022883711809150945\n"
     ]
    }
   ],
   "source": [
    "function mtoer(n1, cfut, ceff, coefs...) \n",
    "    β_n = coefs[1:4]\n",
    "    β_c = coefs[5:8]\n",
    "    stagetwo = integrate(\n",
    "        z -> CP(z, samplesize(z, n1, cfut, ceff, β_n...), n1, criticalvalue(z, cfut, ceff, β_c...), 0) * pdf(Normal(), z),\n",
    "        cfut, ceff; \n",
    "        ξ = ξ2, ω = ω2\n",
    "    )\n",
    "    efficacy = 1 - cdf(Normal(), ceff)\n",
    "    stagetwo + efficacy\n",
    "end\n",
    "\n",
    "β_combined_start = vcat(β_n_start, β_c_start)\n",
    "\n",
    "@show mtoer(n1_start, cfut_start, ceff_start, β_combined_start...);"
   ]
  },
  {
   "cell_type": "code",
   "execution_count": 22,
   "metadata": {},
   "outputs": [
    {
     "name": "stdout",
     "output_type": "stream",
     "text": [
      "ep(n1_start, cfut_start, ceff_start, β_combined_start...) = 0.8216545302337381\n"
     ]
    }
   ],
   "source": [
    "function ep(n1, cfut, ceff, coefs...) \n",
    "    β_n = coefs[1:4]\n",
    "    β_c = coefs[5:8]\n",
    "    stagetwo = integrate(\n",
    "        z -> PP(z, samplesize(z, n1, cfut, ceff, β_n...), n1, criticalvalue(z, cfut, ceff, β_c...), φ) * cmarginal_pdf(z, n1, φ),\n",
    "        cfut, ceff; \n",
    "        ξ = ξ2, ω = ω2\n",
    "    )\n",
    "    efficacy = integrate(z -> cmarginal_pdf(z, n1, φ), ceff)\n",
    "    stagetwo + efficacy\n",
    "end\n",
    "\n",
    "@show ep(n1_start, cfut_start, ceff_start, β_combined_start...);"
   ]
  },
  {
   "cell_type": "code",
   "execution_count": 23,
   "metadata": {},
   "outputs": [
    {
     "name": "stdout",
     "output_type": "stream",
     "text": [
      "Min ess(26.0, cfut, ceff, β_n[1], β_n[2], β_n[3], β_n[4])\n",
      "Subject to\n",
      " β_c[1] - β_c[2] = 0.0\n",
      " β_c[2] - β_c[3] = 0.0\n",
      " β_c[3] - β_c[4] = 0.0\n",
      " ceff - cfut ≥ 0.5\n",
      " β_n[1] ≥ 0.0\n",
      " β_n[2] ≥ 0.0\n",
      " β_n[3] ≥ 0.0\n",
      " β_n[4] ≥ 0.0\n",
      " β_c[1] ≥ 0.0\n",
      " β_c[2] ≥ 0.0\n",
      " β_c[3] ≥ 0.0\n",
      " β_c[4] ≥ 0.0\n",
      " n1 ≥ 1.0\n",
      " cfut ≥ -3.0\n",
      " ceff ≥ 0.9799819922700288\n",
      " β_n[1] ≤ 395.0\n",
      " β_n[2] ≤ 395.0\n",
      " β_n[3] ≤ 395.0\n",
      " β_n[4] ≤ 395.0\n",
      " β_c[1] ≤ 5.0\n",
      " β_c[2] ≤ 5.0\n",
      " β_c[3] ≤ 5.0\n",
      " β_c[4] ≤ 5.0\n",
      " n1 ≤ 52.14\n",
      " cfut ≤ 0.9799819922700288\n",
      " ceff ≤ 3.0\n",
      " mtoer(26.0, cfut, ceff, β_n[1], β_n[2], β_n[3], β_n[4], β_c[1], β_c[2], β_c[3], β_c[4]) - 0.025 ≤ 0\n",
      " ep(26.0, cfut, ceff, β_n[1], β_n[2], β_n[3], β_n[4], β_c[1], β_c[2], β_c[3], β_c[4]) - 0.8 ≥ 0\n"
     ]
    }
   ],
   "source": [
    "mdl = Model(\n",
    "    optimizer_with_attributes(\n",
    "        Ipopt.Optimizer, \n",
    "        \"print_level\" => 4,\n",
    "        #\"nlp_scaling_method\" => \"gradient-based\",\n",
    "        #\"nlp_scaling_max_gradient\" => 100.0,\n",
    "        #\"nlp_scaling_min_value\" => 1e-3,\n",
    "        \"tol\" => 1e-6,\n",
    "        \"max_cpu_time\" => 30.0, # seconds\n",
    "        \"max_iter\" => 10000\n",
    "    )\n",
    ")\n",
    "\n",
    "#register(mdl, :samplesize, 4 + kn + 1, samplesize; autodiff = true)\n",
    "#register(mdl, :criticalvalue, 4 + kc + 1, criticalvalue; autodiff = true)\n",
    "register(mdl, :ess,   3 + 4,       ess; autodiff = true)\n",
    "register(mdl, :mtoer, 3 + 4 + 4, mtoer; autodiff = true)\n",
    "register(mdl, :ep,    3 + 4 + 4,    ep; autodiff = true)\n",
    "\n",
    "@variable(mdl, \n",
    "    0 <= β_n[i=1:4] <= 5*n, \n",
    "    start = β_n_start[i]\n",
    ")\n",
    "@variable(mdl, \n",
    "    0 <= β_c[i=1:4] <= 5, \n",
    "    start = β_c_start[i]\n",
    ")\n",
    "@constraint(mdl, [i = 1:3], β_c[i] == β_c[i+1])\n",
    "@expression(mdl, coefs, vcat(β_n, β_c))\n",
    "@variable(mdl, \n",
    "    1 <= n1 <= 0.66*n,\n",
    "    start = m\n",
    ")\n",
    "@variable(mdl, \n",
    "    -3 <= cfut <= crit/2, \n",
    "    start = cfut_start\n",
    ")\n",
    "# fix(cfut, cfut_start; force = true)\n",
    "@variable(mdl, \n",
    "    crit/2 <= ceff <= 3, \n",
    "    start = ceff_start\n",
    ")\n",
    "# fix(ceff, ceff_start; force = true)\n",
    "@constraint(mdl, ceff - cfut >= 0.5)\n",
    "\n",
    "@NLobjective(mdl, Min, ess(n1_start,cfut, ceff, β_n...))\n",
    "@NLconstraint(mdl, mtoer(n1_start, cfut, ceff, coefs...) <= 0.025)\n",
    "@NLconstraint(mdl, ep(n1_start, cfut, ceff, coefs...) >= 0.8)\n",
    "#@NLconstraint(mdl, samplesize(0 + .1, 0, 3, m, β_n...) >= m + 5)\n",
    "#@NLconstraint(mdl, samplesize(3 - .1, 0, 3, m, β_n...) >= m + 5)\n",
    "\n",
    "print(mdl)"
   ]
  },
  {
   "cell_type": "code",
   "execution_count": 24,
   "metadata": {},
   "outputs": [
    {
     "name": "stdout",
     "output_type": "stream",
     "text": [
      "Total number of variables............................:       11\n",
      "                     variables with only lower bounds:        0\n",
      "                variables with lower and upper bounds:       11\n",
      "                     variables with only upper bounds:        0\n",
      "Total number of equality constraints.................:        3\n",
      "Total number of inequality constraints...............:        3\n",
      "        inequality constraints with only lower bounds:        2\n",
      "   inequality constraints with lower and upper bounds:        0\n",
      "        inequality constraints with only upper bounds:        1\n",
      "\n",
      "\n",
      "Number of Iterations....: 561\n",
      "\n",
      "                                   (scaled)                 (unscaled)\n",
      "Objective...............:   5.6958963579217823e+01    5.6958963579217823e+01\n",
      "Dual infeasibility......:   1.0287420929738119e+01    1.0287420929738119e+01\n",
      "Constraint violation....:   1.3093033713844019e-03    1.3093033713844019e-03\n",
      "Complementarity.........:   1.1259358553875011e-01    1.1259358553875011e-01\n",
      "Overall NLP error.......:   1.0287420929738119e+01    1.0287420929738119e+01\n",
      "\n",
      "\n",
      "Number of objective function evaluations             = 819\n",
      "Number of objective gradient evaluations             = 562\n",
      "Number of equality constraint evaluations            = 819\n",
      "Number of inequality constraint evaluations          = 819\n",
      "Number of equality constraint Jacobian evaluations   = 562\n",
      "Number of inequality constraint Jacobian evaluations = 562\n",
      "Number of Lagrangian Hessian evaluations             = 0\n",
      "Total CPU secs in IPOPT (w/o function evaluations)   =      2.705\n",
      "Total CPU secs in NLP function evaluations           =     27.396\n",
      "\n",
      "EXIT: Maximum CPU time exceeded.\n"
     ]
    }
   ],
   "source": [
    "JuMP.optimize!(mdl)"
   ]
  },
  {
   "cell_type": "code",
   "execution_count": 25,
   "metadata": {},
   "outputs": [
    {
     "data": {
      "image/png": "[encoded data removed]"
     },
     "metadata": {},
     "output_type": "display_data"
    },
    {
     "data": {
      "text/plain": [
       "RObject{VecSxp}\n"
      ]
     },
     "execution_count": 25,
     "metadata": {},
     "output_type": "execute_result"
    }
   ],
   "source": [
    "  z = collect(-1:0.01:3)\n",
    " n_ = samplesize.(z, value(n1), value(cfut), value(ceff), value.(β_n)...)\n",
    " c_ = criticalvalue.(z, value(cfut), value(ceff), value.(β_c)...)\n",
    "pp_ = PP.(z, n_, value(n1), c_, φ)\n",
    "R\"\n",
    "tibble(\n",
    "     z = $z,\n",
    "     n = $n_,\n",
    "     c = $c_ %>% if_else(abs(.) <10, ., NA_real_),\n",
    "    pp = $pp_\n",
    ") %>%\n",
    "pivot_longer(-z, names_to = 'type', values_to = 'value') %>%\n",
    "filter(complete.cases(value)) %>% \n",
    "ggplot() +\n",
    "    aes(z, value) +\n",
    "    geom_line() +\n",
    "    scale_y_continuous(limits = c(0, NA)) +\n",
    "    facet_wrap(~type, scales = 'free_y')\n",
    "\""
   ]
  },
  {
   "cell_type": "code",
   "execution_count": 26,
   "metadata": {},
   "outputs": [
    {
     "name": "stdout",
     "output_type": "stream",
     "text": [
      "ess(value(n1), value(cfut), value.(ceff), value.(β_n)...) = 57.717078603576695\n",
      "mtoer(value(n1), value(cfut), value(ceff), value.(coefs)...) = 0.02553235857456678\n",
      "ep(value(n1), value(cfut), value(ceff), value.(coefs)...) = 0.8048629620731923\n"
     ]
    }
   ],
   "source": [
    "@show ess(value(n1), value(cfut), value.(ceff), value.(β_n)...);\n",
    "@show mtoer(value(n1), value(cfut), value(ceff), value.(coefs)...);\n",
    "@show ep(value(n1), value(cfut), value(ceff), value.(coefs)...);"
   ]
  },
  {
   "cell_type": "code",
   "execution_count": null,
   "metadata": {},
   "outputs": [],
   "source": [
    "value(n1), value(cfut), value.(ceff), value.(β_n)"
   ]
  },
  {
   "cell_type": "code",
   "execution_count": null,
   "metadata": {},
   "outputs": [],
   "source": []
  }
 ],
 "metadata": {
  "kernelspec": {
   "display_name": "Julia 1.4.1",
   "language": "julia",
   "name": "julia-1.4"
  },
  "language_info": {
   "file_extension": ".jl",
   "mimetype": "application/julia",
   "name": "julia",
   "version": "1.4.1"
  }
 },
 "nbformat": 4,
 "nbformat_minor": 4
}
